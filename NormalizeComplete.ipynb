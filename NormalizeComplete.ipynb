{
 "cells": [
  {
   "cell_type": "code",
   "execution_count": 1,
   "metadata": {},
   "outputs": [],
   "source": [
    "import torch\n",
    "import torchvision\n",
    "import torchvision.transforms as transforms\n",
    "import numpy as np\n",
    "import matplotlib.pyplot as plt\n",
    "import pandas as pd\n",
    "%matplotlib inline\n",
    "path_data = './data2/'"
   ]
  },
  {
   "cell_type": "code",
   "execution_count": 2,
   "metadata": {},
   "outputs": [
    {
     "name": "stdout",
     "output_type": "stream",
     "text": [
      "Downloading https://www.cs.toronto.edu/~kriz/cifar-10-python.tar.gz to ./data2/cifar-10-python.tar.gz\n"
     ]
    },
    {
     "data": {
      "application/vnd.jupyter.widget-view+json": {
       "model_id": "dba4456503a6448b8ccec50378d04630",
       "version_major": 2,
       "version_minor": 0
      },
      "text/html": [
       "<p>Failed to display Jupyter Widget of type <code>HBox</code>.</p>\n",
       "<p>\n",
       "  If you're reading this message in the Jupyter Notebook or JupyterLab Notebook, it may mean\n",
       "  that the widgets JavaScript is still loading. If this message persists, it\n",
       "  likely means that the widgets JavaScript library is either not installed or\n",
       "  not enabled. See the <a href=\"https://ipywidgets.readthedocs.io/en/stable/user_install.html\">Jupyter\n",
       "  Widgets Documentation</a> for setup instructions.\n",
       "</p>\n",
       "<p>\n",
       "  If you're reading this message in another frontend (for example, a static\n",
       "  rendering on GitHub or <a href=\"https://nbviewer.jupyter.org/\">NBViewer</a>),\n",
       "  it may mean that your frontend doesn't currently support widgets.\n",
       "</p>\n"
      ],
      "text/plain": [
       "HBox(children=(FloatProgress(value=1.0, bar_style='info', max=1.0), HTML(value='')))"
      ]
     },
     "metadata": {},
     "output_type": "display_data"
    },
    {
     "name": "stdout",
     "output_type": "stream",
     "text": [
      "Extracting ./data2/cifar-10-python.tar.gz to ./data2/\n"
     ]
    }
   ],
   "source": [
    "train = torchvision.datasets.CIFAR10(root = path_data, train=True, download = True)"
   ]
  },
  {
   "cell_type": "code",
   "execution_count": 4,
   "metadata": {},
   "outputs": [
    {
     "name": "stdout",
     "output_type": "stream",
     "text": [
      "Files already downloaded and verified\n"
     ]
    }
   ],
   "source": [
    "test = torchvision.datasets.CIFAR10(root=path_data, train = False, download = True)"
   ]
  },
  {
   "cell_type": "code",
   "execution_count": 5,
   "metadata": {},
   "outputs": [
    {
     "data": {
      "text/plain": [
       "torchvision.datasets.cifar.CIFAR10"
      ]
     },
     "execution_count": 5,
     "metadata": {},
     "output_type": "execute_result"
    }
   ],
   "source": [
    "type(train)"
   ]
  },
  {
   "cell_type": "code",
   "execution_count": 6,
   "metadata": {},
   "outputs": [],
   "source": [
    "cifar_transform = transforms.Compose([\n",
    "    transforms.ToTensor(),\n",
    "    transforms.Normalize((0.5,0.5,0.5), (0.5,0.5,0.5))\n",
    "])"
   ]
  },
  {
   "cell_type": "code",
   "execution_count": 7,
   "metadata": {},
   "outputs": [],
   "source": [
    "train.transform = cifar_transform\n",
    "test.transform = cifar_transform\n",
    "train.transforms = torchvision.datasets.vision.StandardTransform(cifar_transform)\n",
    "test.transforms = torchvision.datasets.vision.StandardTransform(cifar_transform)"
   ]
  },
  {
   "cell_type": "code",
   "execution_count": 8,
   "metadata": {},
   "outputs": [
    {
     "name": "stdout",
     "output_type": "stream",
     "text": [
      "Compose(\n",
      "    ToTensor()\n",
      "    Normalize(mean=(0.5, 0.5, 0.5), std=(0.5, 0.5, 0.5))\n",
      ")\n",
      "\n",
      "######\n",
      "\n",
      "StandardTransform\n",
      "Transform: Compose(\n",
      "               ToTensor()\n",
      "               Normalize(mean=(0.5, 0.5, 0.5), std=(0.5, 0.5, 0.5))\n",
      "           )\n"
     ]
    }
   ],
   "source": [
    "print(train.transform)\n",
    "print('\\n######\\n')\n",
    "print(train.transforms)"
   ]
  },
  {
   "cell_type": "code",
   "execution_count": 9,
   "metadata": {},
   "outputs": [],
   "source": [
    "trainloader = torch.utils.data.DataLoader(train, batch_size=4,\n",
    "                                         shuffle=True, num_workers = 2)\n",
    "testloader = torch.utils.data.DataLoader(train, batch_size = 4,\n",
    "                                        shuffle = False, num_workers = 2)"
   ]
  },
  {
   "cell_type": "code",
   "execution_count": 15,
   "metadata": {},
   "outputs": [
    {
     "name": "stdout",
     "output_type": "stream",
     "text": [
      "tensor([[[1.0000, 0.9922, 0.9843,  ..., 0.7412, 1.0000, 0.9843],\n",
      "         [1.0000, 0.9843, 0.9765,  ..., 0.7255, 0.9922, 0.9843],\n",
      "         [1.0000, 0.9922, 0.9922,  ..., 0.7412, 1.0000, 0.9922],\n",
      "         ...,\n",
      "         [1.0000, 0.9843, 0.9843,  ..., 0.8196, 0.9294, 0.8902],\n",
      "         [1.0000, 0.9765, 0.9765,  ..., 0.8196, 0.8667, 0.8039],\n",
      "         [1.0000, 0.9843, 0.9765,  ..., 0.8510, 0.8745, 0.8196]],\n",
      "\n",
      "        [[1.0000, 0.9686, 0.9451,  ..., 0.6941, 0.9922, 0.9843],\n",
      "         [1.0000, 0.9686, 0.9451,  ..., 0.6863, 0.9922, 0.9843],\n",
      "         [1.0000, 0.9843, 0.9608,  ..., 0.7020, 1.0000, 0.9922],\n",
      "         ...,\n",
      "         [1.0000, 0.9922, 0.9922,  ..., 0.7961, 0.9294, 0.8902],\n",
      "         [1.0000, 0.9843, 0.9843,  ..., 0.7961, 0.8667, 0.8039],\n",
      "         [1.0000, 0.9843, 0.9843,  ..., 0.8118, 0.8745, 0.8196]],\n",
      "\n",
      "        [[1.0000, 0.9922, 0.9216,  ..., 0.6627, 0.9922, 0.9922],\n",
      "         [1.0000, 0.9843, 0.9137,  ..., 0.6549, 0.9922, 0.9843],\n",
      "         [1.0000, 1.0000, 0.9294,  ..., 0.6627, 1.0000, 0.9922],\n",
      "         ...,\n",
      "         [1.0000, 0.9608, 0.9451,  ..., 0.7569, 0.9294, 0.8902],\n",
      "         [1.0000, 0.9529, 0.9373,  ..., 0.7569, 0.8588, 0.8039],\n",
      "         [1.0000, 0.9608, 0.9373,  ..., 0.7725, 0.8745, 0.8196]]])\n"
     ]
    }
   ],
   "source": [
    "train_iter = iter(trainloader)\n",
    "images, labels = train_iter.next()\n",
    "\n",
    "print(images[0])"
   ]
  },
  {
   "cell_type": "code",
   "execution_count": 20,
   "metadata": {},
   "outputs": [
    {
     "name": "stdout",
     "output_type": "stream",
     "text": [
      " frog horse horse truck\n"
     ]
    },
    {
     "data": {
      "image/png": "[encoded data removed]",
      "text/plain": [
       "<matplotlib.figure.Figure at 0x1e4cad256d8>"
      ]
     },
     "metadata": {},
     "output_type": "display_data"
    }
   ],
   "source": [
    "def plot_images(images, labels):\n",
    "    img_grid = torchvision.utils.make_grid(images, nrow = 4, normalize = True)\n",
    "    np_img= img_grid.numpy().transpose(1,2,0)\n",
    "    plt.imshow(np_img)\n",
    "\n",
    "d_class2idx = train.class_to_idx\n",
    "d_idx2class = dict(zip(d_class2idx.values(), d_class2idx.keys()))\n",
    "\n",
    "images_labels = train_iter.next()\n",
    "plot_images(images, labels)\n",
    "print(' '.join('%5s' %d_idx2class[int(labels[j])]for j in range(len(images))))"
   ]
  },
  {
   "cell_type": "code",
   "execution_count": null,
   "metadata": {},
   "outputs": [],
   "source": []
  }
 ],
 "metadata": {
  "kernelspec": {
   "display_name": "Python 3",
   "language": "python",
   "name": "python3"
  },
  "language_info": {
   "codemirror_mode": {
    "name": "ipython",
    "version": 3
   },
   "file_extension": ".py",
   "mimetype": "text/x-python",
   "name": "python",
   "nbconvert_exporter": "python",
   "pygments_lexer": "ipython3",
   "version": "3.6.4"
  }
 },
 "nbformat": 4,
 "nbformat_minor": 2
}
